{
 "cells": [
  {
   "cell_type": "code",
   "execution_count": 9,
   "metadata": {},
   "outputs": [],
   "source": [
    "import numpy as np\n",
    "import math\n",
    "import time\n",
    "from scipy.stats import expon\n",
    "from scipy.stats import uniform\n",
    "from scipy.stats import chi2\n",
    "from scipy.stats import norm\n",
    "import matplotlib.pyplot as plt\n",
    "from scipy.stats import ksone, kstest, ks_2samp, chisquare  "
   ]
  },
  {
   "cell_type": "code",
   "execution_count": 10,
   "metadata": {},
   "outputs": [],
   "source": [
    "def gen_expon_values(n, lambd):\n",
    "    vals = np.random.exponential(scale=1.0/lambd, size=n)\n",
    "    return vals\n",
    "\n",
    "def make_hist(X, Xname, n, Y, Yname, m):\n",
    "    figure, axis = plt.subplots(1, 2, figsize=(8,2.5))\n",
    "    axis[0].hist(X, 30, density = True)\n",
    "    axis[0].set_title(f\"{Xname}: {n} спостережень\")\n",
    "    axis[1].hist(Y, 30, density = True)\n",
    "    axis[1].set_title(f\"{Yname}: {m} спостережень\")\n",
    "    plt.show()\n",
    "    \n",
    "def F_expon(u, lambd):\n",
    "    return 1 - np.exp(- lambd * u)\n",
    "\n",
    "def F_unif(u):\n",
    "    if u>=1:\n",
    "        return 1\n",
    "    elif u<0:\n",
    "        return 0\n",
    "    else:\n",
    "        return u"
   ]
  },
  {
   "cell_type": "code",
   "execution_count": 11,
   "metadata": {},
   "outputs": [],
   "source": [
    "gamma = 0.05 #рівень значимості\n",
    "Z_gamma = 1.36\n",
    "\n",
    "n = [1000, 10000, 100000]"
   ]
  },
  {
   "attachments": {
    "image.png": {
     "image/png": "[encoded data removed]"
    }
   },
   "cell_type": "markdown",
   "metadata": {},
   "source": [
    "![image.png](attachment:image.png)"
   ]
  },
  {
   "cell_type": "code",
   "execution_count": 12,
   "metadata": {},
   "outputs": [],
   "source": [
    "def checker_expon(X, lambd_teor, gamma):\n",
    "    x = kstest(X, expon(scale=1.0/lambd_teor).cdf)\n",
    "    if x.pvalue < gamma:\n",
    "        return 'rejected'\n",
    "    else:\n",
    "        return 'accepted'"
   ]
  },
  {
   "cell_type": "code",
   "execution_count": 13,
   "metadata": {},
   "outputs": [],
   "source": [
    "def Dn(X, n, param):\n",
    "    X_ord = np.sort(X) #order statistics\n",
    "    maximum = float('-inf')\n",
    "    for k in range(n):\n",
    "        F_k = F_expon(X_ord[k], param)\n",
    "        a = F_k - (k-1)/n\n",
    "        b = k/n - F_k\n",
    "        m = max(a,b)\n",
    "        if m > maximum:\n",
    "            maximum = m    \n",
    "    return maximum\n",
    "\n",
    "\n",
    "def kolmogorov_test(X, n, param, gamma):\n",
    "    res = None\n",
    "    print(\"Z_gamma =\", Z_gamma)\n",
    "    D = Dn(X, n, param)\n",
    "    print(\"sqrt(n)*D=\", math.sqrt(n) * D)\n",
    "    if math.sqrt(n) * D < Z_gamma:\n",
    "        print(\"Ho ACCEPTED\")\n",
    "        res = 'accepted'\n",
    "    else:\n",
    "        print(\"Ho REJECTED\")\n",
    "        res = 'rejected'\n",
    "    c = checker_expon(X, lambd_teor, gamma)\n",
    "    print(f\"validation: {c == res}\")\n",
    "    return res"
   ]
  },
  {
   "attachments": {
    "image.png": {
     "image/png": "[encoded data removed]"
    }
   },
   "cell_type": "markdown",
   "metadata": {},
   "source": [
    "![image.png](attachment:image.png)"
   ]
  },
  {
   "cell_type": "code",
   "execution_count": 14,
   "metadata": {},
   "outputs": [],
   "source": [
    "def get_equal_intervals(r, h):\n",
    "    ai = [0]\n",
    "    s = 0\n",
    "    for j in range(r):\n",
    "        ai.append(s+h)\n",
    "        s = s+h\n",
    "    return ai\n",
    "\n",
    "def get_v(X, xmax, r, h):\n",
    "    v = [0 for i in range(r)]\n",
    "    for x_i in X:\n",
    "        if x_i == xmax:\n",
    "            v[-1]+=1\n",
    "        else:\n",
    "            ind = int(x_i/h)\n",
    "            v[ind]+=1\n",
    "    return v\n",
    "\n",
    "def get_p(r, lambd, breakpoints):\n",
    "    funcs = [F_expon(point, lambd) for point in breakpoints]\n",
    "    p = [(funcs[i] - funcs[i-1]) for i in range(1, r+1)]  \n",
    "    return p\n",
    "\n",
    "def get_delta(n, r, v, p):\n",
    "    s = 0\n",
    "    for i in range(r):\n",
    "        s += (v[i] - n*p[i])**2 /p[i]\n",
    "    res = s/n \n",
    "    return res\n",
    "\n",
    "def chi2_pearson_test(X, n, gamma, lambd_teor):\n",
    "    r = int(0.03 * n) # кількість інтервалів\n",
    "    res = None\n",
    "    Z_gamma = chi2.ppf(1-gamma, df = r-1)\n",
    "    print(\"Z_gamma=\", Z_gamma)\n",
    "    xmax = np.max(X)\n",
    "    h = xmax / r # ширина інтервалу\n",
    "#     print(\"r=\", r, \"h=\", h)\n",
    "    breakpoints = get_equal_intervals(r, h)\n",
    "    v = get_v(X, xmax, r, h) #вектор частот\n",
    "    p = get_p(r, lambd_teor, breakpoints)\n",
    "    delta = get_delta(n, r, v, p)\n",
    "    print('delta=', delta)\n",
    "    if delta < Z_gamma:\n",
    "        print(\"Ho ACCEPTED\")\n",
    "        res = 'accepted'\n",
    "    else:\n",
    "        print(\"Ho REJECTED\")\n",
    "        res = 'rejected'\n",
    "    return res"
   ]
  },
  {
   "attachments": {
    "image.png": {
     "image/png": "[encoded data removed]"
    }
   },
   "cell_type": "markdown",
   "metadata": {},
   "source": [
    "![image.png](attachment:image.png)"
   ]
  },
  {
   "cell_type": "code",
   "execution_count": 15,
   "metadata": {},
   "outputs": [],
   "source": [
    "def empty_box_test(X, n, lambda_teor, gamma):\n",
    "    Z_gamma = norm.ppf(1-gamma, loc=0, scale=1) \n",
    "    r = int(n/2)\n",
    "    ro = 2\n",
    "    Y = [F_expon(x_i, lambda_teor) for x_i in X]\n",
    "    ymax = np.max(Y)\n",
    "    h = ymax/r\n",
    "    breakpoints = get_equal_intervals(r, h)\n",
    "    v = get_v(Y, ymax, r, h) #вектор частот\n",
    "    k = np.sum( np.array(v) == 0)\n",
    "    e_ro = np.exp(-ro)\n",
    "    bound = r * e_ro + Z_gamma * np.sqrt(r * e_ro * (1-(1+ro)*e_ro))\n",
    "    print(\"k=\", k)\n",
    "    print(\"bound=\", bound)\n",
    "    if k < bound:\n",
    "        print(\"Ho ACCEPTED\")\n",
    "    else:\n",
    "        print(\"Ho REJECTED\")\n",
    "        \n",
    "def check_Y_box(Y, n, gamma):\n",
    "    print(\"\\nChecking Y\")\n",
    "    Z_gamma = norm.ppf(1-gamma, loc=0, scale=1) \n",
    "    r = int(n/2)\n",
    "    ro = 2\n",
    "    B = [F_unif(y_i) for y_i in Y]\n",
    "    bmax = np.max(B)\n",
    "    h = bmax/r\n",
    "    breakpoints = get_equal_intervals(r, h)\n",
    "    v = get_v(B, bmax, r, h) #вектор частот\n",
    "    k = np.sum( np.array(v) == 0)\n",
    "    e_ro = np.exp(-ro)\n",
    "    bound = r * e_ro + Z_gamma * np.sqrt(r * e_ro * (1-(1+ro)*e_ro))\n",
    "    if k < bound:\n",
    "        print(\"Y IS uniform\")\n",
    "    else:\n",
    "        print(\"Y NOT uniform\")"
   ]
  },
  {
   "attachments": {
    "image.png": {
     "image/png": "[encoded data removed]"
    }
   },
   "cell_type": "markdown",
   "metadata": {},
   "source": [
    "![image.png](attachment:image.png)"
   ]
  },
  {
   "cell_type": "code",
   "execution_count": 19,
   "metadata": {
    "scrolled": false
   },
   "outputs": [
    {
     "name": "stdout",
     "output_type": "stream",
     "text": [
      "n= 1000\n",
      "----Критерій Колмогорова----\n",
      "Z_gamma = 1.36\n",
      "sqrt(n)*D= 31.291930882473427\n",
      "Ho REJECTED\n",
      "validation: False\n",
      "\n",
      "Checking Y\n",
      "Y IS uniform\n",
      "\n",
      "----Критерій хі-квадрат----\n",
      "Z_gamma= 42.55696780429269\n",
      "delta= 9802950.614853162\n",
      "Ho REJECTED\n",
      "\n",
      "Checking Y\n",
      "Y IS uniform\n",
      "\n",
      "----Критерій пустих ящиків----\n",
      "k= 0\n",
      "bound= 78.09582983486621\n",
      "Ho ACCEPTED\n",
      "\n",
      "Checking Y\n",
      "Y IS uniform\n",
      "-----------------------------------------\n",
      "n= 10000\n",
      "----Критерій Колмогорова----\n",
      "Z_gamma = 1.36\n",
      "sqrt(n)*D= 90.07303111699183\n",
      "Ho REJECTED\n",
      "validation: False\n",
      "\n",
      "Checking Y\n",
      "Y IS uniform\n",
      "\n",
      "----Критерій хі-квадрат----\n",
      "Z_gamma= 340.3278503488595\n",
      "delta= 813465.0634478617\n",
      "Ho REJECTED\n",
      "\n",
      "Checking Y\n",
      "Y IS uniform\n",
      "\n",
      "----Критерій пустих ящиків----\n",
      "k= 0\n",
      "bound= 709.653242816322\n",
      "Ho ACCEPTED\n",
      "\n",
      "Checking Y\n",
      "Y IS uniform\n",
      "-----------------------------------------\n",
      "n= 100000\n",
      "----Критерій Колмогорова----\n",
      "Z_gamma = 1.36\n",
      "sqrt(n)*D= 0.6206157854721781\n",
      "Ho ACCEPTED\n",
      "validation: True\n",
      "\n",
      "Checking Y\n",
      "Y IS uniform\n",
      "\n",
      "----Критерій хі-квадрат----\n",
      "Z_gamma= 3127.515431571307\n",
      "delta= 3574.1489994202316\n",
      "Ho REJECTED\n",
      "\n",
      "Checking Y\n",
      "Y IS uniform\n",
      "\n",
      "----Критерій пустих ящиків----\n",
      "k= 6817\n",
      "bound= 6871.0460439962335\n",
      "Ho ACCEPTED\n",
      "\n",
      "Checking Y\n",
      "Y IS uniform\n",
      "-----------------------------------------\n"
     ]
    }
   ],
   "source": [
    "lambd_real = 1 #яка насправді\n",
    "lambd_teor = 1 #яку ми перевіряємо\n",
    "\n",
    "for n_i in n:\n",
    "    print(\"n=\", n_i)\n",
    "    print(\"----Критерій Колмогорова----\")\n",
    "    kolmogorov_test(X, n_i, lambd_teor, gamma)\n",
    "    check_Y_box(Y, n_i, gamma)\n",
    "    \n",
    "    print(\"\\n----Критерій хі-квадрат----\")\n",
    "    chi2_pearson_test(X, n_i, gamma, lambd_teor)\n",
    "    check_Y_box(Y, n_i, gamma)\n",
    "    \n",
    "    print(\"\\n----Критерій пустих ящиків----\")\n",
    "    empty_box_test(X, n_i, lambd_teor, gamma)\n",
    "    check_Y_box(Y, n_i, gamma)\n",
    "    \n",
    "    print(\"-----------------------------------------\")"
   ]
  },
  {
   "attachments": {
    "image.png": {
     "image/png": "[encoded data removed]"
    }
   },
   "cell_type": "markdown",
   "metadata": {},
   "source": [
    "![image.png](attachment:image.png)"
   ]
  },
  {
   "cell_type": "code",
   "execution_count": 20,
   "metadata": {
    "scrolled": false
   },
   "outputs": [
    {
     "name": "stdout",
     "output_type": "stream",
     "text": [
      "n= 1000\n",
      "----Критерій Колмогорова----\n",
      "Z_gamma = 1.36\n",
      "sqrt(n)*D= 31.291930882473427\n",
      "Ho REJECTED\n",
      "validation: False\n",
      "\n",
      "Checking Y\n",
      "Y IS uniform\n",
      "\n",
      "----Критерій хі-квадрат----\n",
      "Z_gamma= 42.55696780429269\n",
      "delta= 9802950.614853162\n",
      "Ho REJECTED\n",
      "\n",
      "Checking Y\n",
      "Y IS uniform\n",
      "\n",
      "----Критерій пустих ящиків----\n",
      "k= 0\n",
      "bound= 78.09582983486621\n",
      "Ho ACCEPTED\n",
      "\n",
      "Checking Y\n",
      "Y IS uniform\n",
      "-----------------------------------------\n",
      "n= 10000\n",
      "----Критерій Колмогорова----\n",
      "Z_gamma = 1.36\n",
      "sqrt(n)*D= 90.07303111699183\n",
      "Ho REJECTED\n",
      "validation: False\n",
      "\n",
      "Checking Y\n",
      "Y IS uniform\n",
      "\n",
      "----Критерій хі-квадрат----\n",
      "Z_gamma= 340.3278503488595\n",
      "delta= 813465.0634478617\n",
      "Ho REJECTED\n",
      "\n",
      "Checking Y\n",
      "Y IS uniform\n",
      "\n",
      "----Критерій пустих ящиків----\n",
      "k= 0\n",
      "bound= 709.653242816322\n",
      "Ho ACCEPTED\n",
      "\n",
      "Checking Y\n",
      "Y IS uniform\n",
      "-----------------------------------------\n",
      "n= 100000\n",
      "----Критерій Колмогорова----\n",
      "Z_gamma = 1.36\n",
      "sqrt(n)*D= 0.6206157854721781\n",
      "Ho ACCEPTED\n",
      "validation: True\n",
      "\n",
      "Checking Y\n",
      "Y IS uniform\n",
      "\n",
      "----Критерій хі-квадрат----\n",
      "Z_gamma= 3127.515431571307\n",
      "delta= 3574.1489994202316\n",
      "Ho REJECTED\n",
      "\n",
      "Checking Y\n",
      "Y IS uniform\n",
      "\n",
      "----Критерій пустих ящиків----\n",
      "k= 6817\n",
      "bound= 6871.0460439962335\n",
      "Ho ACCEPTED\n",
      "\n",
      "Checking Y\n",
      "Y IS uniform\n",
      "-----------------------------------------\n"
     ]
    }
   ],
   "source": [
    "lambd_real = 1.2 #яка насправді\n",
    "lambd_teor = 1 #яку ми перевіряємо\n",
    "\n",
    "for n_i in n:\n",
    "    print(\"n=\", n_i)\n",
    "    print(\"----Критерій Колмогорова----\")\n",
    "    kolmogorov_test(X, n_i, lambd_teor, gamma)\n",
    "    check_Y_box(Y, n_i, gamma)\n",
    "    \n",
    "    print(\"\\n----Критерій хі-квадрат----\")\n",
    "    chi2_pearson_test(X, n_i, gamma, lambd_teor)\n",
    "    check_Y_box(Y, n_i, gamma)\n",
    "    \n",
    "    print(\"\\n----Критерій пустих ящиків----\")\n",
    "    empty_box_test(X, n_i, lambd_teor, gamma)\n",
    "    check_Y_box(Y, n_i, gamma)\n",
    "    \n",
    "    print(\"-----------------------------------------\")"
   ]
  },
  {
   "attachments": {
    "image.png": {
     "image/png": "[encoded data removed]"
    }
   },
   "cell_type": "markdown",
   "metadata": {},
   "source": [
    "![image.png](attachment:image.png)"
   ]
  },
  {
   "cell_type": "code",
   "execution_count": 21,
   "metadata": {},
   "outputs": [],
   "source": [
    "def checker_2samp(X, Y, gamma):\n",
    "    x = ks_2samp(X, Y)\n",
    "#     print(x)\n",
    "    if x.pvalue < gamma:\n",
    "        return 'rejected'\n",
    "    else:\n",
    "        return 'accepted'"
   ]
  },
  {
   "cell_type": "code",
   "execution_count": 22,
   "metadata": {},
   "outputs": [],
   "source": [
    "def cdf_n_Y(X_ord, n, Y_ord, m): # Емпірична ф-я розподілу(Cumulative Distribution Function)\n",
    "    cdf = [(np.sum(X_ord<=Y_ord[i])/n) for i in range(m)]\n",
    "    return cdf\n",
    "\n",
    "def D_2samp(X, Y, n, m):\n",
    "    X_ord = np.sort(X) #order statistics\n",
    "    Y_ord = np.sort(Y) #order statistics\n",
    "    cdf = cdf_n_Y(X_ord, n, Y_ord, m)\n",
    "    Dplus = np.max([(k/m - cdf[k]) for k in range(m)])\n",
    "    Dminus = np.max([(cdf[k] - (k-1)/m)for k in range(m)])\n",
    "    D = max(Dplus, Dminus)\n",
    "    return D    \n",
    "\n",
    "\n",
    "def kolmogorov_test_2samp(X, Y, n, m, gamma):\n",
    "    res = None\n",
    "    Z_gamma = 1.65\n",
    "    print(\"Z_gamma =\", Z_gamma)\n",
    "    D = D_2samp(X, Y, n, m)\n",
    "    print(\"srqt*D=\", math.sqrt(n*m/(n+m)) * D)\n",
    "    if math.sqrt(n*m/(n+m)) * D < Z_gamma:\n",
    "        print(\"Ho ACCEPTED\")\n",
    "        res = 'accepted'\n",
    "    else:\n",
    "        print(\"Ho REJECTED\")\n",
    "        res = 'rejected'\n",
    "    c = checker_2samp(X, Y, gamma)\n",
    "    print(f\"validation: {c == res}\")"
   ]
  },
  {
   "attachments": {
    "image.png": {
     "image/png": "[encoded data removed]"
    }
   },
   "cell_type": "markdown",
   "metadata": {},
   "source": [
    "![image.png](attachment:image.png)"
   ]
  },
  {
   "cell_type": "code",
   "execution_count": 23,
   "metadata": {},
   "outputs": [
    {
     "name": "stdout",
     "output_type": "stream",
     "text": [
      "n= 1000 m= 500\n",
      "Z_gamma = 1.65\n",
      "srqt*D= 9.128709291752768\n",
      "Ho REJECTED\n",
      "validation: True\n",
      "-----------------------------------------\n",
      "n= 10000 m= 5000\n",
      "Z_gamma = 1.65\n",
      "srqt*D= 29.594974798660218\n",
      "Ho REJECTED\n",
      "validation: True\n",
      "-----------------------------------------\n",
      "n= 100000 m= 50000\n",
      "Z_gamma = 1.65\n",
      "srqt*D= 110.57970713471799\n",
      "Ho REJECTED\n",
      "validation: True\n",
      "-----------------------------------------\n"
     ]
    }
   ],
   "source": [
    "lambd_real_X = 1 #яка насправді\n",
    "lambd_real_Y = 1\n",
    "\n",
    "for n_i in n:\n",
    "    m_i = int(n_i/2)\n",
    "    print(\"n=\", n_i, \"m=\", m_i)\n",
    "    kolmogorov_test_2samp(X, Y, n_i, m_i, gamma)\n",
    "    print(\"-----------------------------------------\")"
   ]
  },
  {
   "attachments": {
    "image.png": {
     "image/png": "[encoded data removed]"
    }
   },
   "cell_type": "markdown",
   "metadata": {},
   "source": [
    "![image.png](attachment:image.png)"
   ]
  },
  {
   "cell_type": "code",
   "execution_count": 24,
   "metadata": {},
   "outputs": [
    {
     "name": "stdout",
     "output_type": "stream",
     "text": [
      "n= 1000 m= 500\n",
      "Z_gamma = 1.65\n",
      "srqt*D= 9.128709291752768\n",
      "Ho REJECTED\n",
      "validation: True\n",
      "-----------------------------------------\n",
      "n= 10000 m= 5000\n",
      "Z_gamma = 1.65\n",
      "srqt*D= 29.594974798660218\n",
      "Ho REJECTED\n",
      "validation: True\n",
      "-----------------------------------------\n",
      "n= 100000 m= 50000\n",
      "Z_gamma = 1.65\n",
      "srqt*D= 110.57970713471799\n",
      "Ho REJECTED\n",
      "validation: True\n",
      "-----------------------------------------\n"
     ]
    }
   ],
   "source": [
    "lambd_real_X = 1 #яка насправді\n",
    "lambd_real_Y = 1.2\n",
    "\n",
    "for n_i in n:\n",
    "    m_i = int(n_i/2)\n",
    "    print(\"n=\", n_i, \"m=\", m_i)\n",
    "    kolmogorov_test_2samp(X, Y, n_i, m_i, gamma)\n",
    "    print(\"-----------------------------------------\")"
   ]
  },
  {
   "cell_type": "code",
   "execution_count": null,
   "metadata": {},
   "outputs": [],
   "source": []
  }
 ],
 "metadata": {
  "kernelspec": {
   "display_name": "Python 3",
   "language": "python",
   "name": "python3"
  },
  "language_info": {
   "codemirror_mode": {
    "name": "ipython",
    "version": 3
   },
   "file_extension": ".py",
   "mimetype": "text/x-python",
   "name": "python",
   "nbconvert_exporter": "python",
   "pygments_lexer": "ipython3",
   "version": "3.7.4"
  }
 },
 "nbformat": 4,
 "nbformat_minor": 4
}
