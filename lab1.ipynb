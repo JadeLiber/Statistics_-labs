{
 "cells": [
  {
   "cell_type": "code",
   "execution_count": 1,
   "metadata": {},
   "outputs": [],
   "source": [
    "import numpy as np\n",
    "import scipy.stats as sps\n",
    "import pandas as pd\n",
    "from numpy import cos, sin, pi, sqrt\n",
    "import matplotlib.pyplot as plt"
   ]
  },
  {
   "cell_type": "markdown",
   "metadata": {},
   "source": [
    "# LAB 1 Statistics "
   ]
  },
  {
   "cell_type": "code",
   "execution_count": 2,
   "metadata": {},
   "outputs": [],
   "source": [
    "gamma = 0.01\n",
    "z_gamma = 2.575"
   ]
  },
  {
   "cell_type": "markdown",
   "metadata": {},
   "source": [
    "A.\tПобудувати довірчий інтервал для математичного сподівання   у припущенні, що спостерігаються в.в.  , які мають нормальний розподіл, але дисперсія   невідома."
   ]
  },
  {
   "cell_type": "markdown",
   "metadata": {},
   "source": [
    "B.\tПобудувати довірчий інтервал для математичного сподівання   у припущенні, що спостерігаються в.в.  , розподіл яких невідомий."
   ]
  },
  {
   "cell_type": "markdown",
   "metadata": {},
   "source": [
    "C.\tПобудувати довірчий інтервал для дисперсії   у припущенні, що спостерігаються в.в.  , які мають нормальний розподіл."
   ]
  },
  {
   "cell_type": "code",
   "execution_count": 3,
   "metadata": {},
   "outputs": [],
   "source": [
    "def get_sample (n):\n",
    "    sample = sps.norm(loc=0, scale=1).rvs(size=n)\n",
    "    return sample"
   ]
  },
  {
   "cell_type": "code",
   "execution_count": 4,
   "metadata": {},
   "outputs": [],
   "source": [
    "def a_unknown_sigma (n):\n",
    "    sample = get_sample (n)\n",
    "    a_ = sum(sample)/n\n",
    "    s_ =sum((sample-a_)**2)/n\n",
    "    left = a_ - z_gamma*sqrt(s_)/sqrt(n-1)\n",
    "    right = a_ + z_gamma*sqrt(s_)/sqrt(n-1)\n",
    "    print('Оцінка а: ', a_)\n",
    "    print('Оцінка s: ', s_)\n",
    "    print('Довірчий інтервал: [', left, ',', right, ']')\n",
    "    print('Довжина довірчого інтервалу', right-left)\n",
    "    print()"
   ]
  },
  {
   "cell_type": "code",
   "execution_count": 5,
   "metadata": {},
   "outputs": [],
   "source": [
    "def a_unknown_rosp (n):\n",
    "    sample = get_sample (n)\n",
    "    a_ = sum(sample)/n\n",
    "    s_ =sum((sample-a_)**2)/(n-1)\n",
    "    left = a_ - z_gamma*sqrt(s_)/sqrt(n)\n",
    "    right = a_ + z_gamma*sqrt(s_)/sqrt(n)\n",
    "    print('Оцінка а: ', a_)\n",
    "    print('Оцінка s: ', s_)\n",
    "    print('Довірчий інтервал: [', left, ',', right, ']')\n",
    "    print('Довжина довірчого інтервалу', right-left)\n",
    "    print()"
   ]
  },
  {
   "cell_type": "code",
   "execution_count": 8,
   "metadata": {},
   "outputs": [],
   "source": [
    "def sigma (n, z_gamma_1, z_gamma_2):\n",
    "    sample = get_sample (n)\n",
    "    a_ = sum(sample)/n\n",
    "    s_ =sum((sample-a_)**2)/(n)\n",
    "    left = n*s_/z_gamma_2\n",
    "    right = n*s_/z_gamma_1\n",
    "    print('Оцінка s: ', s_)\n",
    "    print('Довірчий інтервал: [', left, ',', right, ']')\n",
    "    print('Довжина довірчого інтервалу', right-left)\n",
    "    print()"
   ]
  },
  {
   "cell_type": "code",
   "execution_count": 9,
   "metadata": {},
   "outputs": [
    {
     "name": "stdout",
     "output_type": "stream",
     "text": [
      "N =  100\n",
      "Оцінка а:  -0.047375104183861365\n",
      "Оцінка s:  0.829994790256937\n",
      "Довірчий інтервал: [ -0.2831498684315102 , 0.18839966006378744 ]\n",
      "Довжина довірчого інтервалу 0.47154952849529763\n",
      "\n",
      "Оцінка а:  0.17000709498770053\n",
      "Оцінка s:  1.297007336010591\n",
      "Довірчий інтервал: [ -0.12324994699654965 , 0.4632641369719507 ]\n",
      "Довжина довірчого інтервалу 0.5865140839685004\n",
      "\n",
      "Оцінка s:  0.9754003896403806\n",
      "Довірчий інтервал: [ 0.701793627726251 , 1.4665446479376762 ]\n",
      "Довжина довірчого інтервалу 0.7647510202114253\n",
      "\n",
      "N =  10000\n",
      "Оцінка а:  -0.011051886407064193\n",
      "Оцінка s:  0.9814197310845489\n",
      "Довірчий інтервал: [ -0.0365628193812298 , 0.014459046567101412 ]\n",
      "Довжина довірчого інтервалу 0.05102186594833121\n",
      "\n",
      "Оцінка а:  0.013514795582406657\n",
      "Оцінка s:  1.0223465929846538\n",
      "Довірчий інтервал: [ -0.012521327166783305 , 0.039550918331596616 ]\n",
      "Довжина довірчого інтервалу 0.052072245498379924\n",
      "\n",
      "Оцінка s:  0.9924004826225299\n",
      "Довірчий інтервал: [ 0.9572673504303887 , 1.0296214849929766 ]\n",
      "Довжина довірчого інтервалу 0.07235413456258788\n",
      "\n",
      "N =  1000000\n",
      "Оцінка а:  0.000908903908846374\n",
      "Оцінка s:  1.0006418397693286\n",
      "Довірчий інтервал: [ -0.0016669236152141828 , 0.003484731432906931 ]\n",
      "Довжина довірчого інтервалу 0.005151655048121114\n",
      "\n",
      "Оцінка а:  -0.0016274466880935342\n",
      "Оцінка s:  1.0010179308344014\n",
      "Довірчий інтервал: [ -0.004203756940691007 , 0.0009488635645039383 ]\n",
      "Довжина довірчого інтервалу 0.005152620505194945\n",
      "\n",
      "Оцінка s:  1.0009527063492771\n",
      "Довірчий інтервал: [ 0.9973169600080926 , 1.0046094992353791 ]\n",
      "Довжина довірчого інтервалу 0.007292539227286565\n",
      "\n"
     ]
    }
   ],
   "source": [
    "for n, z1, z2 in ([100, 66.51010530174, 138.98678345094], [10000, 9638.49819654161, 10367.01483839750], [1000000, 996359.98575676900, 1003645.52743709000]):\n",
    "    print('N = ', n)\n",
    "    a_unknown_sigma (n)\n",
    "    a_unknown_rosp (n)\n",
    "    sigma (n, z1, z2)"
   ]
  },
  {
   "cell_type": "markdown",
   "metadata": {},
   "source": [
    "# Метод Монте Карло"
   ]
  },
  {
   "cell_type": "code",
   "execution_count": null,
   "metadata": {},
   "outputs": [],
   "source": []
  }
 ],
 "metadata": {
  "kernelspec": {
   "display_name": "Python 3",
   "language": "python",
   "name": "python3"
  },
  "language_info": {
   "codemirror_mode": {
    "name": "ipython",
    "version": 3
   },
   "file_extension": ".py",
   "mimetype": "text/x-python",
   "name": "python",
   "nbconvert_exporter": "python",
   "pygments_lexer": "ipython3",
   "version": "3.7.6"
  }
 },
 "nbformat": 4,
 "nbformat_minor": 4
}
