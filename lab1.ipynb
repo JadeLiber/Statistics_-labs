{
 "cells": [
  {
   "cell_type": "code",
   "execution_count": 75,
   "metadata": {},
   "outputs": [],
   "source": [
    "import numpy as np\n",
    "import scipy.stats as sps\n",
    "import pandas as pd\n",
    "from numpy import cos, sin, pi, sqrt\n",
    "import matplotlib.pyplot as plt"
   ]
  },
  {
   "cell_type": "markdown",
   "metadata": {},
   "source": [
    "# LAB 1 Statistics "
   ]
  },
  {
   "cell_type": "code",
   "execution_count": 76,
   "metadata": {},
   "outputs": [],
   "source": [
    "gamma = 0.01\n",
    "z_gamma = 2.575"
   ]
  },
  {
   "cell_type": "markdown",
   "metadata": {},
   "source": [
    "A.\tПобудувати довірчий інтервал для математичного сподівання   у припущенні, що спостерігаються в.в.  , які мають нормальний розподіл, але дисперсія   невідома."
   ]
  },
  {
   "cell_type": "markdown",
   "metadata": {},
   "source": [
    "B.\tПобудувати довірчий інтервал для математичного сподівання   у припущенні, що спостерігаються в.в.  , розподіл яких невідомий."
   ]
  },
  {
   "cell_type": "markdown",
   "metadata": {},
   "source": [
    "C.\tПобудувати довірчий інтервал для дисперсії   у припущенні, що спостерігаються в.в.  , які мають нормальний розподіл."
   ]
  },
  {
   "cell_type": "code",
   "execution_count": 77,
   "metadata": {},
   "outputs": [],
   "source": [
    "def get_sample (n):\n",
    "    sample = sps.norm(loc=0, scale=1).rvs(size=n)\n",
    "    return sample"
   ]
  },
  {
   "cell_type": "code",
   "execution_count": 78,
   "metadata": {},
   "outputs": [],
   "source": [
    "def a_unknown_sigma (n):\n",
    "    sample = get_sample (n)\n",
    "    a_ = sum(sample)/n\n",
    "    s_ =sum((sample-a_)**2)/n\n",
    "    left = a_ - z_gamma*sqrt(s_)/sqrt(n-1)\n",
    "    right = a_ + z_gamma*sqrt(s_)/sqrt(n-1)\n",
    "    print('Оцінка а: ', a_)\n",
    "    print('Оцінка s: ', s_)\n",
    "    print('Довірчий інтервал: [', left, ',', right, ']')\n",
    "    print('Довжина довірчого інтервалу', right-left)\n",
    "    print()"
   ]
  },
  {
   "cell_type": "code",
   "execution_count": 79,
   "metadata": {},
   "outputs": [],
   "source": [
    "def a_unknown_rosp (n):\n",
    "    sample = get_sample (n)\n",
    "    a_ = sum(sample)/n\n",
    "    s_ =sum((sample-a_)**2)/(n-1)\n",
    "    left = a_ - z_gamma*sqrt(s_)/sqrt(n)\n",
    "    right = a_ + z_gamma*sqrt(s_)/sqrt(n)\n",
    "    print('Оцінка а: ', a_)\n",
    "    print('Оцінка s: ', s_)\n",
    "    print('Довірчий інтервал: [', left, ',', right, ']')\n",
    "    print('Довжина довірчого інтервалу', right-left)\n",
    "    print()"
   ]
  },
  {
   "cell_type": "code",
   "execution_count": 80,
   "metadata": {},
   "outputs": [],
   "source": [
    "def sigma (n, z_gamma_1, z_gamma_2):\n",
    "    sample = get_sample (n)\n",
    "    a_ = sum(sample)/n\n",
    "    s_ =sum((sample-a_)**2)/(n)\n",
    "    left = n*s_/z_gamma_2\n",
    "    right = n*s_/z_gamma_1\n",
    "    print('Оцінка s: ', s_)\n",
    "    print('Довірчий інтервал: [', left, ',', right, ']')\n",
    "    print('Довжина довірчого інтервалу', right-left)\n",
    "    print()"
   ]
  },
  {
   "cell_type": "code",
   "execution_count": 81,
   "metadata": {},
   "outputs": [
    {
     "name": "stdout",
     "output_type": "stream",
     "text": [
      "N =  100\n",
      "Оцінка а:  -0.039912747865561336\n",
      "Оцінка s:  1.0813413891039212\n",
      "Довірчий інтервал: [ -0.3090296960484369 , 0.22920420031731423 ]\n",
      "Довжина довірчого інтервалу 0.5382338963657511\n",
      "\n",
      "Оцінка а:  0.1642768321283112\n",
      "Оцінка s:  0.87864858211821\n",
      "Довірчий інтервал: [ -0.07709402888866318 , 0.4056476931452856 ]\n",
      "Довжина довірчого інтервалу 0.4827417220339488\n",
      "\n",
      "Оцінка s:  1.245120099748415\n",
      "Довірчий інтервал: [ 0.8958550365962828 , 1.8720765725743649 ]\n",
      "Довжина довірчого інтервалу 0.976221535978082\n",
      "\n",
      "N =  10000\n",
      "Оцінка а:  0.0009957413031911329\n",
      "Оцінка s:  1.021921623990823\n",
      "Довірчий інтервал: [ -0.025036271169430968 , 0.027027753775813235 ]\n",
      "Довжина довірчого інтервалу 0.0520640249452442\n",
      "\n",
      "Оцінка а:  0.014108058659448332\n",
      "Оцінка s:  1.0023702462076003\n",
      "Довірчий інтервал: [ -0.011672440198720161 , 0.03988855751761683 ]\n",
      "Довжина довірчого інтервалу 0.05156099771633699\n",
      "\n",
      "Оцінка s:  1.0403263420000441\n",
      "Довірчий інтервал: [ 1.0034965303096397 , 1.0793448530947733 ]\n",
      "Довжина довірчого інтервалу 0.07584832278513365\n",
      "\n",
      "N =  1000000\n",
      "Оцінка а:  0.000785582551897611\n",
      "Оцінка s:  1.0003948564797782\n",
      "Довірчий інтервал: [ -0.0017899270634010797 , 0.0033610921671963015 ]\n",
      "Довжина довірчого інтервалу 0.005151019230597381\n",
      "\n",
      "Оцінка а:  -0.0006558733811036854\n",
      "Оцінка s:  0.9974029392833964\n",
      "Довірчий інтервал: [ -0.003227527491649264 , 0.001915780729441893 ]\n",
      "Довжина довірчого інтервалу 0.005143308221091157\n",
      "\n",
      "Оцінка s:  0.9983611199841783\n",
      "Довірчий інтервал: [ 0.9947347870254493 , 1.0020084449958009 ]\n",
      "Довжина довірчого інтервалу 0.007273657970351621\n",
      "\n"
     ]
    }
   ],
   "source": [
    "for n, z1, z2 in ([100, 66.51010530174, 138.98678345094], [10000, 9638.49819654161, 10367.01483839750], [1000000, 996359.98575676900, 1003645.52743709000]):\n",
    "    print('N = ', n)\n",
    "    a_unknown_sigma (n)\n",
    "    a_unknown_rosp (n)\n",
    "    sigma (n, z1, z2)"
   ]
  },
  {
   "cell_type": "markdown",
   "metadata": {},
   "source": [
    "###  \tПри кожному  m  обчислити точне значення ймовірності   (для перевірки коректності алгоритмів моделювання)."
   ]
  },
  {
   "cell_type": "code",
   "execution_count": 82,
   "metadata": {},
   "outputs": [],
   "source": [
    "from scipy import integrate\n",
    "from sympy import factorial\n",
    "import math\n",
    "\n",
    "def funс(u):\n",
    "    return math.exp(-u) * np.power(u, np.array(m-1)) / ((1 + u)*factorial(m - 1))"
   ]
  },
  {
   "cell_type": "code",
   "execution_count": 83,
   "metadata": {},
   "outputs": [
    {
     "name": "stdout",
     "output_type": "stream",
     "text": [
      "Q= 0.5963473623231728\n"
     ]
    }
   ],
   "source": [
    "m = 1\n",
    "Q = integrate.quad(funс, 0, np.infty)[0]\n",
    "print(\"Q=\", Q)"
   ]
  },
  {
   "cell_type": "code",
   "execution_count": 84,
   "metadata": {},
   "outputs": [
    {
     "name": "stdout",
     "output_type": "stream",
     "text": [
      "Q= 0.09892913264064612\n"
     ]
    }
   ],
   "source": [
    "m = 10\n",
    "Q = integrate.quad(funс, 0, np.infty)[0]\n",
    "print(\"Q=\", Q)"
   ]
  },
  {
   "attachments": {
    "photo_2022-04-13_20-56-05.jpg": {
     "image/jpeg": "[encoded data removed]"
    },
    "photo_2022-04-13_20-56-10.jpg": {
     "image/jpeg": "[encoded data removed]"
    }
   },
   "cell_type": "markdown",
   "metadata": {},
   "source": [
    "# Метод Монте Карло\n",
    "![photo_2022-04-13_20-56-05.jpg](attachment:photo_2022-04-13_20-56-05.jpg)\n",
    "![photo_2022-04-13_20-56-10.jpg](attachment:photo_2022-04-13_20-56-10.jpg)\n",
    "\n"
   ]
  },
  {
   "cell_type": "code",
   "execution_count": 85,
   "metadata": {},
   "outputs": [],
   "source": [
    "e = 0.01"
   ]
  },
  {
   "cell_type": "code",
   "execution_count": 94,
   "metadata": {},
   "outputs": [],
   "source": [
    "def generate_random(n):\n",
    "    omega_arr = np.random.sample(n)\n",
    "    xci_arr = (-1) * np.log(omega_arr)\n",
    "    return sum(xci_arr)"
   ]
  },
  {
   "attachments": {
    "photo_2022-04-13_20-56-13.jpg": {
     "image/jpeg": "[encoded data removed]"
    }
   },
   "cell_type": "markdown",
   "metadata": {},
   "source": [
    "### 1-й метод\n",
    "![photo_2022-04-13_20-56-13.jpg](attachment:photo_2022-04-13_20-56-13.jpg)"
   ]
  },
  {
   "cell_type": "code",
   "execution_count": 95,
   "metadata": {},
   "outputs": [],
   "source": [
    "def get_q_method1 (eta, summ):\n",
    "    return 1 if eta > summ else 0\n",
    "\n",
    "def method(m):\n",
    "    n = 0\n",
    "    Q_ = 0\n",
    "    sigma = 0\n",
    "    sum_qi = 0\n",
    "    sum_qi2 = 0 \n",
    "    sigma2n = 0 \n",
    "    n_check = 10\n",
    "    while n < n_check:\n",
    "        n = n + 1\n",
    "        summ = generate_random(m)\n",
    "        omega = np.random.sample() #generate eta\n",
    "        eta = (1 / omega) - 1\n",
    "\n",
    "        qi = get_q_method1( eta, summ)\n",
    "        #print(qi)\n",
    "        sum_qi = sum_qi + qi\n",
    "        sum_qi2 = sum_qi2 + qi**2\n",
    "        sigma2n = sigma2n + ((qi - (sum_qi / n)) ** 2)\n",
    "        \n",
    "        if n>=2 and sum_qi!=0:\n",
    "            Q_ = sum_qi/n\n",
    "            #print(Q_)\n",
    "            sigma = (sum_qi2 - n*(Q_**2)) / (n-1)\n",
    "            n_check = (sigma*z_gamma)**2 / ((e*Q_)**2)\n",
    "    return Q_, sigma, n_check, n"
   ]
  },
  {
   "cell_type": "code",
   "execution_count": 98,
   "metadata": {},
   "outputs": [
    {
     "data": {
      "text/plain": [
       "(0.6025384101536406, 0.2395087305105853, 10476.776759721446, 10479)"
      ]
     },
     "execution_count": 98,
     "metadata": {},
     "output_type": "execute_result"
    }
   ],
   "source": [
    "method(1)"
   ]
  },
  {
   "cell_type": "code",
   "execution_count": 99,
   "metadata": {},
   "outputs": [
    {
     "data": {
      "text/plain": [
       "(0.09999813818398466, 0.09000018618160154, 53710.28466504419, 53711)"
      ]
     },
     "execution_count": 99,
     "metadata": {},
     "output_type": "execute_result"
    }
   ],
   "source": [
    "method(10)"
   ]
  },
  {
   "cell_type": "code",
   "execution_count": 100,
   "metadata": {},
   "outputs": [
    {
     "data": {
      "text/plain": [
       "(0.00932726881588248, 0.009240412862128853, 65077.106028709415, 65078)"
      ]
     },
     "execution_count": 100,
     "metadata": {},
     "output_type": "execute_result"
    }
   ],
   "source": [
    "method(100)"
   ]
  },
  {
   "cell_type": "code",
   "execution_count": 110,
   "metadata": {},
   "outputs": [
    {
     "data": {
      "text/plain": [
       "(0, 0, 10, 10)"
      ]
     },
     "execution_count": 110,
     "metadata": {},
     "output_type": "execute_result"
    }
   ],
   "source": [
    "method(10000)"
   ]
  },
  {
   "attachments": {
    "photo_2022-04-13_20-56-20.jpg": {
     "image/jpeg": "[encoded data removed]"
    }
   },
   "cell_type": "markdown",
   "metadata": {},
   "source": [
    "### 2-й метод\n",
    "![photo_2022-04-13_20-56-20.jpg](attachment:photo_2022-04-13_20-56-20.jpg)"
   ]
  },
  {
   "cell_type": "code",
   "execution_count": 112,
   "metadata": {},
   "outputs": [],
   "source": [
    "import random\n",
    "def method2(m):\n",
    "    n = 0\n",
    "    Q_ = 0\n",
    "    sigma = 0\n",
    "    sum_qi = 0\n",
    "    sum_qi2 = 0 \n",
    "    sigma2n = 0 \n",
    "    n_check = 10\n",
    "    while n < n_check:\n",
    "        n = n + 1\n",
    "        summ = generate_random(m)\n",
    "        \n",
    "        qi = 1 / (summ + 1) \n",
    "        #print(qi)\n",
    "        sum_qi = sum_qi + qi\n",
    "        sum_qi2 = sum_qi2 + qi**2\n",
    "        sigma2n = sigma2n + ((qi - (sum_qi / n)) ** 2)\n",
    "        \n",
    "        if n>=2 and sum_qi!=0:\n",
    "            Q_ = sum_qi/n\n",
    "            #print(Q_)\n",
    "            sigma = (sum_qi2 - n*(Q_**2)) / (n-1)\n",
    "            n_check = (sigma*z_gamma)**2 / ((e*Q_)**2)\n",
    "    return Q_, sigma, n_check, n\n",
    "\n"
   ]
  },
  {
   "cell_type": "code",
   "execution_count": 114,
   "metadata": {},
   "outputs": [
    {
     "data": {
      "text/plain": [
       "(0.5968828959692588, 0.04304115953499579, 344.78163442198417, 345)"
      ]
     },
     "execution_count": 114,
     "metadata": {},
     "output_type": "execute_result"
    }
   ],
   "source": [
    "method2(1)    "
   ]
  },
  {
   "cell_type": "code",
   "execution_count": 117,
   "metadata": {},
   "outputs": [
    {
     "data": {
      "text/plain": [
       "(0.09213902278960506, 0.0001541412973851304, 0.1855689383338712, 2)"
      ]
     },
     "execution_count": 117,
     "metadata": {},
     "output_type": "execute_result"
    }
   ],
   "source": [
    "method2(10)  "
   ]
  },
  {
   "cell_type": "code",
   "execution_count": 118,
   "metadata": {},
   "outputs": [
    {
     "data": {
      "text/plain": [
       "(0.01149734791421545, 8.675947594318531e-07, 0.0003775660703869467, 2)"
      ]
     },
     "execution_count": 118,
     "metadata": {},
     "output_type": "execute_result"
    }
   ],
   "source": [
    "method2(100)"
   ]
  },
  {
   "cell_type": "code",
   "execution_count": 119,
   "metadata": {},
   "outputs": [
    {
     "data": {
      "text/plain": [
       "(0.00010043409764602668, 4.7349381040738356e-12, 1.4737394704991949e-10, 2)"
      ]
     },
     "execution_count": 119,
     "metadata": {},
     "output_type": "execute_result"
    }
   ],
   "source": [
    "method2(10000) "
   ]
  },
  {
   "attachments": {
    "photo_2022-04-13_20-56-31.jpg": {
     "image/jpeg": "[encoded data removed]"
    }
   },
   "cell_type": "markdown",
   "metadata": {},
   "source": [
    "### 4-й метод\n",
    "![photo_2022-04-13_20-56-31.jpg](attachment:photo_2022-04-13_20-56-31.jpg)"
   ]
  },
  {
   "cell_type": "code",
   "execution_count": 120,
   "metadata": {},
   "outputs": [],
   "source": [
    "import random\n",
    "def method4(m):\n",
    "    n = 0\n",
    "    Q_ = 0\n",
    "    sigma = 0\n",
    "    sum_qi = 0\n",
    "    sum_qi2 = 0 \n",
    "    sigma2n = 0 \n",
    "    n_check = 10\n",
    "    while n < n_check:\n",
    "        n = n + 1\n",
    "        omega_arr = np.random.sample(m-1)\n",
    "        xci_arr = (-1) * np.log(omega_arr)\n",
    "        \n",
    "        qi = np.sum(xci_arr) / ((m-1)*(1 + np.sum(xci_arr)))\n",
    "        #print(qi)\n",
    "        sum_qi = sum_qi + qi\n",
    "        sum_qi2 = sum_qi2 + qi**2\n",
    "        sigma2n = sigma2n + ((qi - (sum_qi / n)) ** 2)\n",
    "        \n",
    "        if n>=2 and sum_qi!=0:\n",
    "            Q_ = sum_qi/n\n",
    "            #print(Q_)\n",
    "            sigma = (sum_qi2 - n*(Q_**2)) / (n-1)\n",
    "            n_check = (sigma*z_gamma)**2 / ((e*Q_)**2)\n",
    "    return Q_, sigma, n_check, n\n",
    "\n"
   ]
  },
  {
   "cell_type": "code",
   "execution_count": 126,
   "metadata": {},
   "outputs": [
    {
     "data": {
      "text/plain": [
       "(0.10236812083594557, 3.968484060101057e-06, 9.964930754168936e-05, 2)"
      ]
     },
     "execution_count": 126,
     "metadata": {},
     "output_type": "execute_result"
    }
   ],
   "source": [
    "method4(10) "
   ]
  },
  {
   "cell_type": "code",
   "execution_count": 121,
   "metadata": {},
   "outputs": [
    {
     "data": {
      "text/plain": [
       "(0.0100053807222465, 2.3329740401903734e-11, 3.605014711960091e-13, 2)"
      ]
     },
     "execution_count": 121,
     "metadata": {},
     "output_type": "execute_result"
    }
   ],
   "source": [
    "method4(100) "
   ]
  },
  {
   "cell_type": "code",
   "execution_count": 122,
   "metadata": {},
   "outputs": [
    {
     "data": {
      "text/plain": [
       "(0.00010000008203396713, 1.373119816838026e-21, 1.2501744648044552e-29, 2)"
      ]
     },
     "execution_count": 122,
     "metadata": {},
     "output_type": "execute_result"
    }
   ],
   "source": [
    "method4(10000) "
   ]
  },
  {
   "cell_type": "code",
   "execution_count": null,
   "metadata": {},
   "outputs": [],
   "source": []
  }
 ],
 "metadata": {
  "kernelspec": {
   "display_name": "Python 3",
   "language": "python",
   "name": "python3"
  },
  "language_info": {
   "codemirror_mode": {
    "name": "ipython",
    "version": 3
   },
   "file_extension": ".py",
   "mimetype": "text/x-python",
   "name": "python",
   "nbconvert_exporter": "python",
   "pygments_lexer": "ipython3",
   "version": "3.7.6"
  }
 },
 "nbformat": 4,
 "nbformat_minor": 4
}
