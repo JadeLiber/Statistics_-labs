{
 "cells": [
  {
   "cell_type": "code",
   "execution_count": 42,
   "metadata": {},
   "outputs": [],
   "source": [
    "import numpy as np\n",
    "import scipy.stats as sps\n",
    "import pandas as pd\n",
    "from numpy import cos, sin, pi, sqrt\n",
    "import matplotlib.pyplot as plt"
   ]
  },
  {
   "cell_type": "markdown",
   "metadata": {},
   "source": [
    "# LAB 1 Statistics "
   ]
  },
  {
   "cell_type": "code",
   "execution_count": 43,
   "metadata": {},
   "outputs": [],
   "source": [
    "gamma = 0.01\n",
    "z_gamma = 2.575"
   ]
  },
  {
   "cell_type": "markdown",
   "metadata": {},
   "source": [
    "A.\tПобудувати довірчий інтервал для математичного сподівання   у припущенні, що спостерігаються в.в.  , які мають нормальний розподіл, але дисперсія   невідома."
   ]
  },
  {
   "cell_type": "code",
   "execution_count": 44,
   "metadata": {},
   "outputs": [],
   "source": [
    "def a_known_sigma (n):\n",
    "    sample = get_sample (n)\n",
    "    a_ = 1/n*sum(sample)\n",
    "    left = a_ - z_gamma*sample.var()/sqrt(n)\n",
    "    right = a_ + z_gamma*sample.var()/sqrt(n)\n",
    "    print('N = ', n)\n",
    "    print('Оцінка а: ', a_)\n",
    "    print('Довірчий інтервал: [', left, ',', right, ']')\n",
    "    print('Довжина довірчого інтервалу', right-left)\n",
    "    print()"
   ]
  },
  {
   "cell_type": "code",
   "execution_count": 45,
   "metadata": {},
   "outputs": [],
   "source": [
    "def get_sample (n):\n",
    "    sample = sps.norm(loc=0, scale=1).rvs(size=n)\n",
    "    return sample"
   ]
  },
  {
   "cell_type": "code",
   "execution_count": 46,
   "metadata": {},
   "outputs": [
    {
     "name": "stdout",
     "output_type": "stream",
     "text": [
      "N =  100\n",
      "Оцінка а:  -0.10807465083438932\n",
      "Довірчий інтервал: [ -0.39562922595739064 , 0.17947992428861198 ]\n",
      "Довжина довірчого інтервалу 0.5751091502460026\n",
      "\n",
      "N =  10000\n",
      "Оцінка а:  -0.008447063716762704\n",
      "Довірчий інтервал: [ -0.03381722910203815 , 0.016923101668512748 ]\n",
      "Довжина довірчого інтервалу 0.0507403307705509\n",
      "\n",
      "N =  1000000\n",
      "Оцінка а:  0.0002906357472558297\n",
      "Довірчий інтервал: [ -0.0022859047868963147 , 0.002867176281407974 ]\n",
      "Довжина довірчого інтервалу 0.005153081068304289\n",
      "\n"
     ]
    }
   ],
   "source": [
    "a_known_sigma (100)\n",
    "a_known_sigma (10000)\n",
    "a_known_sigma (1000000)"
   ]
  },
  {
   "cell_type": "code",
   "execution_count": 47,
   "metadata": {},
   "outputs": [],
   "source": [
    "def a_unknown_sigma (n):\n",
    "    sample = get_sample (n)\n",
    "    a_ = sum(sample)/n\n",
    "    s_ =sum((sample-a_)**2)/n\n",
    "    left = a_ - z_gamma*s_/sqrt(n-1)\n",
    "    right = a_ + z_gamma*s_/sqrt(n-1)\n",
    "    print('N = ', n)\n",
    "    print('Оцінка а: ', a_)\n",
    "    print('Оцінка s: ', s_)\n",
    "    print('Довірчий інтервал: [', left, ',', right, ']')\n",
    "    print('Довжина довірчого інтервалу', right-left)\n",
    "    print()"
   ]
  },
  {
   "cell_type": "code",
   "execution_count": 48,
   "metadata": {},
   "outputs": [
    {
     "name": "stdout",
     "output_type": "stream",
     "text": [
      "N =  100\n",
      "Оцінка а:  -0.05850794504703119\n",
      "Оцінка s:  0.9741517856290498\n",
      "Довірчий інтервал: [ -0.31061573600459746 , 0.19359984591053506 ]\n",
      "Довжина довірчого інтервалу 0.5042155819151325\n",
      "\n",
      "N =  10000\n",
      "Оцінка а:  -0.009352533117449033\n",
      "Оцінка s:  1.0074191836371422\n",
      "Довірчий інтервал: [ -0.0352948742455914 , 0.016589808010693336 ]\n",
      "Довжина довірчого інтервалу 0.05188468225628473\n",
      "\n",
      "N =  1000000\n",
      "Оцінка а:  -0.0012318904600702079\n",
      "Оцінка s:  0.9999361298882029\n",
      "Довірчий інтервал: [ -0.0038067272819510634 , 0.0013429463618106477 ]\n",
      "Довжина довірчого інтервалу 0.005149673643761711\n",
      "\n"
     ]
    }
   ],
   "source": [
    "a_unkmown_sigma (100)\n",
    "a_unkmown_sigma (10000)\n",
    "a_unkmown_sigma (1000000)"
   ]
  },
  {
   "cell_type": "code",
   "execution_count": 50,
   "metadata": {},
   "outputs": [],
   "source": [
    "def a_unknown_rosp (n):\n",
    "    sample = get_sample (n)\n",
    "    a_ = sum(sample)/n\n",
    "    s_ =sum((sample-a_)**2)/(n-1)\n",
    "    left = a_ - z_gamma*s_/sqrt(n-1)\n",
    "    right = a_ + z_gamma*s_/sqrt(n-1)\n",
    "    print('N = ', n)\n",
    "    print('Оцінка а: ', a_)\n",
    "    print('Оцінка s: ', s_)\n",
    "    print('Довірчий інтервал: [', left, ',', right, ']')\n",
    "    print('Довжина довірчого інтервалу', right-left)\n",
    "    print()"
   ]
  },
  {
   "cell_type": "code",
   "execution_count": 51,
   "metadata": {},
   "outputs": [
    {
     "name": "stdout",
     "output_type": "stream",
     "text": [
      "N =  100\n",
      "Оцінка а:  -0.02388018864581581\n",
      "Оцінка s:  0.9605336454372692\n",
      "Довірчий інтервал: [ -0.272463642542825 , 0.22470326525119338 ]\n",
      "Довжина довірчого інтервалу 0.4971669077940184\n",
      "\n",
      "N =  10000\n",
      "Оцінка а:  0.0016316061866604237\n",
      "Оцінка s:  0.9857242431942859\n",
      "Довірчий інтервал: [ -0.02375206229074748 , 0.027015274664068327 ]\n",
      "Довжина довірчого інтервалу 0.050767336954815806\n",
      "\n",
      "N =  1000000\n",
      "Оцінка а:  -0.0001761870409702682\n",
      "Оцінка s:  0.9990578663814347\n",
      "Довірчий інтервал: [ -0.0027487623331904306 , 0.002396388251249894 ]\n",
      "Довжина довірчого інтервалу 0.0051451505844403245\n",
      "\n"
     ]
    }
   ],
   "source": [
    "a_unknown_rosp (100)\n",
    "a_unknown_rosp (10000)\n",
    "a_unknown_rosp (1000000)"
   ]
  },
  {
   "cell_type": "code",
   "execution_count": null,
   "metadata": {},
   "outputs": [],
   "source": []
  },
  {
   "cell_type": "markdown",
   "metadata": {},
   "source": [
    "# Метод Монте Карло"
   ]
  },
  {
   "cell_type": "code",
   "execution_count": null,
   "metadata": {},
   "outputs": [],
   "source": []
  }
 ],
 "metadata": {
  "kernelspec": {
   "display_name": "Python 3",
   "language": "python",
   "name": "python3"
  },
  "language_info": {
   "codemirror_mode": {
    "name": "ipython",
    "version": 3
   },
   "file_extension": ".py",
   "mimetype": "text/x-python",
   "name": "python",
   "nbconvert_exporter": "python",
   "pygments_lexer": "ipython3",
   "version": "3.7.6"
  }
 },
 "nbformat": 4,
 "nbformat_minor": 4
}
